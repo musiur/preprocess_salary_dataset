{
 "cells": [
  {
   "cell_type": "code",
   "execution_count": 7,
   "metadata": {},
   "outputs": [],
   "source": [
    "# Import necessary libraries\n",
    "import pandas as pd\n",
    "from sklearn.model_selection import train_test_split\n",
    "from sklearn.ensemble import GradientBoostingRegressor\n",
    "from sklearn.tree import DecisionTreeClassifier\n",
    "from sklearn.metrics import mean_squared_error, r2_score, accuracy_score\n",
    "from sklearn.preprocessing import StandardScaler, LabelEncoder\n",
    "\n",
    "# Load the dataset\n",
    "df = pd.read_csv('job_descriptions.csv', engine=\"python\", on_bad_lines='warn')\n",
    "\n",
    "# Drop unnecessary columns\n",
    "df = df.drop(columns=['latitude', 'longitude', 'Contact', 'Contact Person'])\n",
    "\n",
    "\n",
    "\n",
    "\n",
    "\n"
   ]
  },
  {
   "cell_type": "code",
   "execution_count": 8,
   "metadata": {},
   "outputs": [],
   "source": [
    "# Extracting lower and upper bounds from the 'Salary Range' column\n",
    "df[['Lower Salary', 'Upper Salary']] = df['Salary Range'].str.extract(r'\\$(\\d+)(?:K)?-\\s*\\$(\\d+)(?:K)?')\n",
    "df['Lower Salary'] = pd.to_numeric(df['Lower Salary']) * 1000\n",
    "df['Upper Salary'] = pd.to_numeric(df['Upper Salary']) * 1000\n",
    "df = df.drop(columns=['Salary Range'])\n",
    "\n",
    "# Extracting experience\n",
    "df[['Lower Experience', 'Upper Experience']] = df['Experience'].str.extract(r'(\\d+)\\s*to\\s*(\\d+)\\s*Years')\n",
    "df['Lower Experience'] = pd.to_numeric(df['Lower Experience'])\n",
    "df['Upper Experience'] = pd.to_numeric(df['Upper Experience'])\n",
    "df = df.drop(columns=['Experience'])\n",
    "\n"
   ]
  },
  {
   "cell_type": "code",
   "execution_count": 10,
   "metadata": {},
   "outputs": [],
   "source": [
    "# Handle missing values\n",
    "df = df.dropna()"
   ]
  },
  {
   "cell_type": "code",
   "execution_count": 11,
   "metadata": {},
   "outputs": [
    {
     "name": "stdout",
     "output_type": "stream",
     "text": [
      "             Job Id Qualifications    location           Country  Work Type  \\\n",
      "0  1089843540111562         M.Tech     Douglas       Isle of Man     Intern   \n",
      "1   398454096642776            BCA    Ashgabat      Turkmenistan     Intern   \n",
      "2   481640072963533            PhD       Macao  Macao SAR, China  Temporary   \n",
      "3   688192671473044            PhD  Porto-Novo             Benin  Full-Time   \n",
      "4   117057806156508            MBA    Santiago             Chile     Intern   \n",
      "\n",
      "   Company Size Job Posting Date Preference                     Job Title  \\\n",
      "0         26801       2022-04-24     Female  Digital Marketing Specialist   \n",
      "1        100340       2022-12-19     Female                 Web Developer   \n",
      "2         84525       2022-09-14       Male            Operations Manager   \n",
      "3        129896       2023-02-25     Female              Network Engineer   \n",
      "4         53944       2022-10-11     Female                 Event Manager   \n",
      "\n",
      "                        Role  ...  \\\n",
      "0       Social Media Manager  ...   \n",
      "1     Frontend Web Developer  ...   \n",
      "2    Quality Control Manager  ...   \n",
      "3  Wireless Network Engineer  ...   \n",
      "4         Conference Manager  ...   \n",
      "\n",
      "                                     Job Description  \\\n",
      "0  Social Media Managers oversee an organizations...   \n",
      "1  Frontend Web Developers design and implement u...   \n",
      "2  Quality Control Managers establish and enforce...   \n",
      "3  Wireless Network Engineers design, implement, ...   \n",
      "4  A Conference Manager coordinates and manages c...   \n",
      "\n",
      "                                            Benefits  \\\n",
      "0  {'Flexible Spending Accounts (FSAs), Relocatio...   \n",
      "1  {'Health Insurance, Retirement Plans, Paid Tim...   \n",
      "2  {'Legal Assistance, Bonuses and Incentive Prog...   \n",
      "3  {'Transportation Benefits, Professional Develo...   \n",
      "4  {'Flexible Spending Accounts (FSAs), Relocatio...   \n",
      "\n",
      "                                              skills  \\\n",
      "0  Social media platforms (e.g., Facebook, Twitte...   \n",
      "1  HTML, CSS, JavaScript Frontend frameworks (e.g...   \n",
      "2  Quality control processes and methodologies St...   \n",
      "3  Wireless network design and architecture Wi-Fi...   \n",
      "4  Event planning Conference logistics Budget man...   \n",
      "\n",
      "                                    Responsibilities  \\\n",
      "0  Manage and grow social media accounts, create ...   \n",
      "1  Design and code user interfaces for websites, ...   \n",
      "2  Establish and enforce quality control standard...   \n",
      "3  Design, configure, and optimize wireless netwo...   \n",
      "4  Specialize in conference and convention planni...   \n",
      "\n",
      "                            Company  \\\n",
      "0                 Icahn Enterprises   \n",
      "1      PNC Financial Services Group   \n",
      "2  United Services Automobile Assn.   \n",
      "3                              Hess   \n",
      "4                      Cairn Energy   \n",
      "\n",
      "                                     Company Profile Lower Salary  \\\n",
      "0  {\"Sector\":\"Diversified\",\"Industry\":\"Diversifie...        59000   \n",
      "1  {\"Sector\":\"Financial Services\",\"Industry\":\"Com...        56000   \n",
      "2  {\"Sector\":\"Insurance\",\"Industry\":\"Insurance: P...        61000   \n",
      "3  {\"Sector\":\"Energy\",\"Industry\":\"Mining, Crude-O...        65000   \n",
      "4  {\"Sector\":\"Energy\",\"Industry\":\"Energy - Oil & ...        64000   \n",
      "\n",
      "   Upper Salary  Lower Experience  Upper Experience  \n",
      "0         99000                 5                15  \n",
      "1        116000                 2                12  \n",
      "2        104000                 0                12  \n",
      "3         91000                 4                11  \n",
      "4         87000                 1                12  \n",
      "\n",
      "[5 rows x 21 columns]\n",
      "(1610462, 21)\n"
     ]
    }
   ],
   "source": [
    "print(df.head())\n",
    "print(df.shape)"
   ]
  },
  {
   "cell_type": "code",
   "execution_count": 13,
   "metadata": {},
   "outputs": [],
   "source": [
    "# Label Encoding for categorical variables\n",
    "label_encoder = LabelEncoder()\n",
    "for column in df.select_dtypes(include=['object']).columns:\n",
    "    df[column] = label_encoder.fit_transform(df[column])\n",
    "\n"
   ]
  },
  {
   "cell_type": "code",
   "execution_count": 14,
   "metadata": {},
   "outputs": [
    {
     "name": "stdout",
     "output_type": "stream",
     "text": [
      "Accuracy  0.09064472129138819\n",
      "Lower Salary\n",
      "65000    102967\n",
      "55000    102835\n",
      "64000    102665\n",
      "59000    102661\n",
      "62000    102584\n",
      "61000    102569\n",
      "58000    102412\n",
      "60000    102319\n",
      "63000    102213\n",
      "56000    102203\n",
      "57000    101895\n",
      "Name: count, dtype: int64\n"
     ]
    }
   ],
   "source": [
    "# Define your target variable\n",
    "target_column = 'Lower Salary'\n",
    "\n",
    "# Split the data into features and target\n",
    "X = df.drop(columns=[target_column])\n",
    "y = df[target_column]\n",
    "\n",
    "X_train, X_test, y_train, y_test = train_test_split(X, y, test_size = 0.30, random_state = 0, stratify = y)\n",
    "clf = DecisionTreeClassifier()\n",
    "clf.fit(X_train, y_train)\n",
    "y_pred = clf.predict(X_test)\n",
    "print(\"Accuracy \", accuracy_score(y_test, y_pred))\n",
    "print(y_train.value_counts())\n",
    "\n",
    "# Feature scaling\n",
    "# scaler = StandardScaler()\n",
    "# X_train = scaler.fit_transform(X_train)\n",
    "# X_test = scaler.transform(X_test)"
   ]
  },
  {
   "cell_type": "code",
   "execution_count": 17,
   "metadata": {},
   "outputs": [],
   "source": [
    "from sklearn.model_selection import KFold, cross_val_score\n",
    "import numpy as np\n",
    "from sklearn.ensemble import RandomForestRegressor\n",
    "\n",
    "\n",
    "kfold_validation = KFold(n_splits = 10, shuffle = True, random_state = 42)\n",
    "# Initialize the Random Forest Regressor\n",
    "clf = RandomForestRegressor(n_estimators=100, random_state=42) \n",
    "# clf = DecisionTreeClassifier()\n",
    "\n",
    "results = cross_val_score(clf, X, y, cv = kfold_validation)\n",
    "print(results)\n",
    "print (\"Results = \", np.mean(results), \"+/-\", np.std(results))"
   ]
  },
  {
   "cell_type": "code",
   "execution_count": null,
   "metadata": {},
   "outputs": [],
   "source": [
    "# Initialize and train the Gradient Boosting Regressor\n",
    "# model = GradientBoostingRegressor(n_estimators=100, random_state=42)\n",
    "# model.fit(X_train, y_train)\n",
    "\n",
    "# # Make predictions\n",
    "# y_pred = model.predict(X_test)\n",
    "\n",
    "# # Calculate Mean Squared Error and R-squared for evaluation\n",
    "# mse = mean_squared_error(y_test, y_pred)\n",
    "# r2 = r2_score(y_test, y_pred)\n",
    "\n",
    "# # Print the results\n",
    "# print(f\"Mean Squared Error: {mse}\")\n",
    "# print(f\"R-squared: {r2}\")"
   ]
  },
  {
   "cell_type": "code",
   "execution_count": 16,
   "metadata": {},
   "outputs": [
    {
     "name": "stdout",
     "output_type": "stream",
     "text": [
      "[0.09027517 0.09171575 0.0903779  0.09137451 0.09100195]\n",
      "\n",
      "Results =  0.09094905679686818 +/- 0.0005571292121757966\n"
     ]
    }
   ],
   "source": [
    "# For imbalance dataset\n",
    "from sklearn.model_selection import StratifiedKFold\n",
    "skfold = StratifiedKFold(n_splits=5)\n",
    "clf = DecisionTreeClassifier()\n",
    "results = cross_val_score(clf, X, y, cv = skfold)\n",
    "print(results)\n",
    "print()\n",
    "print (\"Results = \", np.mean(results), \"+/-\", np.std(results))"
   ]
  },
  {
   "cell_type": "code",
   "execution_count": null,
   "metadata": {},
   "outputs": [],
   "source": [
    "\n"
   ]
  }
 ],
 "metadata": {
  "kernelspec": {
   "display_name": "Python 3",
   "language": "python",
   "name": "python3"
  },
  "language_info": {
   "codemirror_mode": {
    "name": "ipython",
    "version": 3
   },
   "file_extension": ".py",
   "mimetype": "text/x-python",
   "name": "python",
   "nbconvert_exporter": "python",
   "pygments_lexer": "ipython3",
   "version": "3.12.5"
  }
 },
 "nbformat": 4,
 "nbformat_minor": 2
}
