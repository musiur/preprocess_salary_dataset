{
 "cells": [
  {
   "cell_type": "code",
   "execution_count": 1,
   "metadata": {},
   "outputs": [],
   "source": [
    "# Import necessary libraries\n",
    "import pandas as pd\n",
    "from sklearn.model_selection import train_test_split\n",
    "from sklearn.ensemble import GradientBoostingRegressor\n",
    "from sklearn.metrics import mean_squared_error, r2_score\n",
    "from sklearn.preprocessing import StandardScaler, LabelEncoder\n",
    "\n",
    "# Load the dataset\n",
    "df = pd.read_csv('job_descriptions.csv', engine=\"python\", on_bad_lines='warn')\n",
    "\n",
    "# Drop unnecessary columns\n",
    "df = df.drop(columns=['latitude', 'longitude', 'Contact', 'Contact Person'])\n",
    "\n",
    "\n",
    "\n",
    "\n",
    "\n"
   ]
  },
  {
   "cell_type": "code",
   "execution_count": null,
   "metadata": {},
   "outputs": [],
   "source": [
    "# Extracting lower and upper bounds from the 'Salary Range' column\n",
    "df[['Lower Salary', 'Upper Salary']] = df['Salary Range'].str.extract(r'\\$(\\d+)(?:K)?-\\s*\\$(\\d+)(?:K)?')\n",
    "df['Lower Salary'] = pd.to_numeric(df['Lower Salary']) * 1000\n",
    "df['Upper Salary'] = pd.to_numeric(df['Upper Salary']) * 1000\n",
    "df = df.drop(columns=['Salary Range'])\n",
    "\n",
    "# Extracting experience\n",
    "df[['Lower Experience', 'Upper Experience']] = df['Experience'].str.extract(r'(\\d+)\\s*to\\s*(\\d+)\\s*Years')\n",
    "df['Lower Experience'] = pd.to_numeric(df['Lower Experience'])\n",
    "df['Upper Experience'] = pd.to_numeric(df['Upper Experience'])\n",
    "df = df.drop(columns=['Experience'])\n",
    "\n"
   ]
  },
  {
   "cell_type": "code",
   "execution_count": null,
   "metadata": {},
   "outputs": [],
   "source": [
    "# Handle missing values\n",
    "df = df.dropna()"
   ]
  },
  {
   "cell_type": "code",
   "execution_count": 2,
   "metadata": {},
   "outputs": [
    {
     "name": "stdout",
     "output_type": "stream",
     "text": [
      "             Job Id  Qualifications  location  Country  Work Type  \\\n",
      "0  1089843540111562               6        59       92          2   \n",
      "1   398454096642776               4        11      198          2   \n",
      "2   481640072963533               9       102      114          4   \n",
      "3   688192671473044               9       152       20          1   \n",
      "4   117057806156508               7       172       39          2   \n",
      "\n",
      "   Company Size  Job Posting Date  Preference  Job Title  Role  ...  \\\n",
      "0         26801               221           1         31   312  ...   \n",
      "1        100340               460           1        145   147  ...   \n",
      "2         84525               364           2         90   273  ...   \n",
      "3        129896               528           1         83   375  ...   \n",
      "4         53944               391           1         38    60  ...   \n",
      "\n",
      "   Job Description  Benefits  skills  Responsibilities  Company  \\\n",
      "0              333         4     307               218      425   \n",
      "1              221         6     154                76      617   \n",
      "2              313         7     269               140      816   \n",
      "3              373         9     374               101      402   \n",
      "4               13         4     126               330      174   \n",
      "\n",
      "   Company Profile  Lower Salary  Upper Salary  Lower Experience  \\\n",
      "0              185         59000         99000                 5   \n",
      "1              311         56000        116000                 2   \n",
      "2              541         61000        104000                 0   \n",
      "3              226         65000         91000                 4   \n",
      "4              207         64000         87000                 1   \n",
      "\n",
      "   Upper Experience  \n",
      "0                15  \n",
      "1                12  \n",
      "2                12  \n",
      "3                11  \n",
      "4                12  \n",
      "\n",
      "[5 rows x 21 columns]\n",
      "(1610462, 21)\n"
     ]
    }
   ],
   "source": [
    "print(df.head())\n",
    "print(df.shape)"
   ]
  },
  {
   "cell_type": "code",
   "execution_count": null,
   "metadata": {},
   "outputs": [],
   "source": [
    "# Label Encoding for categorical variables\n",
    "label_encoder = LabelEncoder()\n",
    "for column in df.select_dtypes(include=['object']).columns:\n",
    "    df[column] = label_encoder.fit_transform(df[column])\n",
    "\n"
   ]
  },
  {
   "cell_type": "code",
   "execution_count": null,
   "metadata": {},
   "outputs": [],
   "source": [
    "# Define your target variable\n",
    "target_column = 'Lower Salary'\n",
    "\n",
    "# Split the data into features and target\n",
    "X = df.drop(columns=[target_column])\n",
    "y = df[target_column]\n",
    "\n",
    "# Stratified train-test split\n",
    "X_train, X_test, y_train, y_test = train_test_split(X, y, test_size=0.2, random_state=42, stratify=y)\n",
    "\n",
    "# Feature scaling\n",
    "scaler = StandardScaler()\n",
    "X_train = scaler.fit_transform(X_train)\n",
    "X_test = scaler.transform(X_test)"
   ]
  },
  {
   "cell_type": "code",
   "execution_count": null,
   "metadata": {},
   "outputs": [],
   "source": [
    "# Initialize and train the Gradient Boosting Regressor\n",
    "model = GradientBoostingRegressor(n_estimators=100, random_state=42)\n",
    "model.fit(X_train, y_train)\n",
    "\n",
    "# Make predictions\n",
    "y_pred = model.predict(X_test)\n",
    "\n",
    "# Calculate Mean Squared Error and R-squared for evaluation\n",
    "mse = mean_squared_error(y_test, y_pred)\n",
    "r2 = r2_score(y_test, y_pred)\n",
    "\n",
    "# Print the results\n",
    "print(f\"Mean Squared Error: {mse}\")\n",
    "print(f\"R-squared: {r2}\")"
   ]
  }
 ],
 "metadata": {
  "kernelspec": {
   "display_name": "Python 3",
   "language": "python",
   "name": "python3"
  },
  "language_info": {
   "codemirror_mode": {
    "name": "ipython",
    "version": 3
   },
   "file_extension": ".py",
   "mimetype": "text/x-python",
   "name": "python",
   "nbconvert_exporter": "python",
   "pygments_lexer": "ipython3",
   "version": "3.12.5"
  }
 },
 "nbformat": 4,
 "nbformat_minor": 2
}
